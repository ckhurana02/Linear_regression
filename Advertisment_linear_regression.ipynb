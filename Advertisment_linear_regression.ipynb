{
 "cells": [
  {
   "cell_type": "code",
   "execution_count": 1,
   "metadata": {},
   "outputs": [],
   "source": [
    "#Linear Regression : -\n",
    "\n",
    "#work on dataset Advertising.csv\n",
    "\n",
    "import pandas as pd\n",
    "import numpy as np\n",
    "import matplotlib.pyplot as plt\n",
    "import seaborn as sns\n",
    "import warnings\n",
    "warnings.filterwarnings('ignore')"
   ]
  },
  {
   "cell_type": "code",
   "execution_count": 2,
   "metadata": {},
   "outputs": [
    {
     "data": {
      "text/html": [
       "<div>\n",
       "<style scoped>\n",
       "    .dataframe tbody tr th:only-of-type {\n",
       "        vertical-align: middle;\n",
       "    }\n",
       "\n",
       "    .dataframe tbody tr th {\n",
       "        vertical-align: top;\n",
       "    }\n",
       "\n",
       "    .dataframe thead th {\n",
       "        text-align: right;\n",
       "    }\n",
       "</style>\n",
       "<table border=\"1\" class=\"dataframe\">\n",
       "  <thead>\n",
       "    <tr style=\"text-align: right;\">\n",
       "      <th></th>\n",
       "      <th>Unnamed: 0</th>\n",
       "      <th>TV</th>\n",
       "      <th>radio</th>\n",
       "      <th>newspaper</th>\n",
       "      <th>sales</th>\n",
       "    </tr>\n",
       "  </thead>\n",
       "  <tbody>\n",
       "    <tr>\n",
       "      <th>0</th>\n",
       "      <td>1</td>\n",
       "      <td>230.1</td>\n",
       "      <td>37.8</td>\n",
       "      <td>69.2</td>\n",
       "      <td>22.1</td>\n",
       "    </tr>\n",
       "    <tr>\n",
       "      <th>1</th>\n",
       "      <td>2</td>\n",
       "      <td>44.5</td>\n",
       "      <td>39.3</td>\n",
       "      <td>45.1</td>\n",
       "      <td>10.4</td>\n",
       "    </tr>\n",
       "    <tr>\n",
       "      <th>2</th>\n",
       "      <td>3</td>\n",
       "      <td>17.2</td>\n",
       "      <td>45.9</td>\n",
       "      <td>69.3</td>\n",
       "      <td>9.3</td>\n",
       "    </tr>\n",
       "    <tr>\n",
       "      <th>3</th>\n",
       "      <td>4</td>\n",
       "      <td>151.5</td>\n",
       "      <td>41.3</td>\n",
       "      <td>58.5</td>\n",
       "      <td>18.5</td>\n",
       "    </tr>\n",
       "    <tr>\n",
       "      <th>4</th>\n",
       "      <td>5</td>\n",
       "      <td>180.8</td>\n",
       "      <td>10.8</td>\n",
       "      <td>58.4</td>\n",
       "      <td>12.9</td>\n",
       "    </tr>\n",
       "  </tbody>\n",
       "</table>\n",
       "</div>"
      ],
      "text/plain": [
       "   Unnamed: 0     TV  radio  newspaper  sales\n",
       "0           1  230.1   37.8       69.2   22.1\n",
       "1           2   44.5   39.3       45.1   10.4\n",
       "2           3   17.2   45.9       69.3    9.3\n",
       "3           4  151.5   41.3       58.5   18.5\n",
       "4           5  180.8   10.8       58.4   12.9"
      ]
     },
     "execution_count": 2,
     "metadata": {},
     "output_type": "execute_result"
    }
   ],
   "source": [
    "#To load dataset \n",
    "df=pd.read_csv(\"advertising.csv\")\n",
    "\n",
    "#to show first 5 records\n",
    "df.head()"
   ]
  },
  {
   "cell_type": "code",
   "execution_count": 3,
   "metadata": {},
   "outputs": [
    {
     "data": {
      "text/plain": [
       "(200, 5)"
      ]
     },
     "execution_count": 3,
     "metadata": {},
     "output_type": "execute_result"
    }
   ],
   "source": [
    "df.shape"
   ]
  },
  {
   "cell_type": "code",
   "execution_count": 4,
   "metadata": {},
   "outputs": [
    {
     "data": {
      "text/html": [
       "<div>\n",
       "<style scoped>\n",
       "    .dataframe tbody tr th:only-of-type {\n",
       "        vertical-align: middle;\n",
       "    }\n",
       "\n",
       "    .dataframe tbody tr th {\n",
       "        vertical-align: top;\n",
       "    }\n",
       "\n",
       "    .dataframe thead th {\n",
       "        text-align: right;\n",
       "    }\n",
       "</style>\n",
       "<table border=\"1\" class=\"dataframe\">\n",
       "  <thead>\n",
       "    <tr style=\"text-align: right;\">\n",
       "      <th></th>\n",
       "      <th>TV</th>\n",
       "      <th>radio</th>\n",
       "      <th>newspaper</th>\n",
       "      <th>sales</th>\n",
       "    </tr>\n",
       "  </thead>\n",
       "  <tbody>\n",
       "    <tr>\n",
       "      <th>0</th>\n",
       "      <td>230.1</td>\n",
       "      <td>37.8</td>\n",
       "      <td>69.2</td>\n",
       "      <td>22.1</td>\n",
       "    </tr>\n",
       "    <tr>\n",
       "      <th>1</th>\n",
       "      <td>44.5</td>\n",
       "      <td>39.3</td>\n",
       "      <td>45.1</td>\n",
       "      <td>10.4</td>\n",
       "    </tr>\n",
       "    <tr>\n",
       "      <th>2</th>\n",
       "      <td>17.2</td>\n",
       "      <td>45.9</td>\n",
       "      <td>69.3</td>\n",
       "      <td>9.3</td>\n",
       "    </tr>\n",
       "    <tr>\n",
       "      <th>3</th>\n",
       "      <td>151.5</td>\n",
       "      <td>41.3</td>\n",
       "      <td>58.5</td>\n",
       "      <td>18.5</td>\n",
       "    </tr>\n",
       "    <tr>\n",
       "      <th>4</th>\n",
       "      <td>180.8</td>\n",
       "      <td>10.8</td>\n",
       "      <td>58.4</td>\n",
       "      <td>12.9</td>\n",
       "    </tr>\n",
       "  </tbody>\n",
       "</table>\n",
       "</div>"
      ],
      "text/plain": [
       "      TV  radio  newspaper  sales\n",
       "0  230.1   37.8       69.2   22.1\n",
       "1   44.5   39.3       45.1   10.4\n",
       "2   17.2   45.9       69.3    9.3\n",
       "3  151.5   41.3       58.5   18.5\n",
       "4  180.8   10.8       58.4   12.9"
      ]
     },
     "execution_count": 4,
     "metadata": {},
     "output_type": "execute_result"
    }
   ],
   "source": [
    "#To remove unwanted column here unwanted column : Unnamed: 0 permanently\n",
    "df.drop(\"Unnamed: 0\",axis=1,inplace=True)\n",
    "df.head()"
   ]
  },
  {
   "cell_type": "code",
   "execution_count": 5,
   "metadata": {},
   "outputs": [
    {
     "name": "stdout",
     "output_type": "stream",
     "text": [
      "TV           0\n",
      "radio        0\n",
      "newspaper    0\n",
      "sales        0\n",
      "dtype: int64\n"
     ]
    },
    {
     "data": {
      "image/png": "[encoded data removed]",
      "text/plain": [
       "<Figure size 432x288 with 2 Axes>"
      ]
     },
     "metadata": {
      "needs_background": "light"
     },
     "output_type": "display_data"
    }
   ],
   "source": [
    "#We predict sales means contineous numerical value means apply regression\n",
    "#algorithm\n",
    "\n",
    "#First check null values \n",
    "print(df.isnull().sum())\n",
    "\n",
    "#visualise \n",
    "sns.heatmap(df.isnull())\n",
    "plt.show()"
   ]
  },
  {
   "cell_type": "code",
   "execution_count": 6,
   "metadata": {},
   "outputs": [
    {
     "name": "stdout",
     "output_type": "stream",
     "text": [
      "<class 'pandas.core.frame.DataFrame'>\n",
      "RangeIndex: 200 entries, 0 to 199\n",
      "Data columns (total 4 columns):\n",
      " #   Column     Non-Null Count  Dtype  \n",
      "---  ------     --------------  -----  \n",
      " 0   TV         200 non-null    float64\n",
      " 1   radio      200 non-null    float64\n",
      " 2   newspaper  200 non-null    float64\n",
      " 3   sales      200 non-null    float64\n",
      "dtypes: float64(4)\n",
      "memory usage: 6.4 KB\n"
     ]
    }
   ],
   "source": [
    "#check datatype of dataset\n",
    "df.info()"
   ]
  },
  {
   "cell_type": "code",
   "execution_count": 7,
   "metadata": {},
   "outputs": [
    {
     "data": {
      "image/png": "[encoded data removed]",
      "text/plain": [
       "<Figure size 432x288 with 1 Axes>"
      ]
     },
     "metadata": {
      "needs_background": "light"
     },
     "output_type": "display_data"
    }
   ],
   "source": [
    "#To check relation between input and output\n",
    "#First check relation between input : TV and output sales with the help of \n",
    "#scatter plot\n",
    "sns.scatterplot(data=df,x=\"TV\",y=\"sales\")\n",
    "plt.show()"
   ]
  },
  {
   "cell_type": "code",
   "execution_count": 8,
   "metadata": {},
   "outputs": [],
   "source": [
    "#Nice upword growth that means as we investment more on TV the sales is also\n",
    "#increasing that means +ve correlation means good +ve correlation between\n",
    "#TV(input) with sales(output)"
   ]
  },
  {
   "cell_type": "code",
   "execution_count": 9,
   "metadata": {},
   "outputs": [
    {
     "data": {
      "image/png": "[encoded data removed]",
      "text/plain": [
       "<Figure size 432x288 with 1 Axes>"
      ]
     },
     "metadata": {
      "needs_background": "light"
     },
     "output_type": "display_data"
    }
   ],
   "source": [
    "#secondly check relation between input : radio and output sales with the help of \n",
    "#scatter plot\n",
    "sns.scatterplot(data=df,x=\"radio\",y=\"sales\")\n",
    "plt.show()"
   ]
  },
  {
   "cell_type": "code",
   "execution_count": 10,
   "metadata": {},
   "outputs": [],
   "source": [
    "#see the scatter plot radio with sales : - looks better but lot of data is \n",
    "#scattered but scatter data overhere +ve correlation, But correlation is less\n",
    "#as compared to TV"
   ]
  },
  {
   "cell_type": "code",
   "execution_count": 11,
   "metadata": {},
   "outputs": [
    {
     "data": {
      "image/png": "[encoded data removed]",
      "text/plain": [
       "<Figure size 432x288 with 1 Axes>"
      ]
     },
     "metadata": {
      "needs_background": "light"
     },
     "output_type": "display_data"
    }
   ],
   "source": [
    "#visualise scatter plot \n",
    "#here X=\"newspaper\"  here X means input and Y=\"sales\" hete Y output means target\n",
    "sns.scatterplot(data=df,x=\"newspaper\",y=\"sales\")#x=input variable and y=output variable\n",
    "plt.show()"
   ]
  },
  {
   "cell_type": "code",
   "execution_count": 12,
   "metadata": {},
   "outputs": [],
   "source": [
    "#It is very bed correlation means no +ve corr and no -ve corr means no\n",
    "#correlation newspaper with sales because data point are scattered "
   ]
  },
  {
   "cell_type": "code",
   "execution_count": 13,
   "metadata": {},
   "outputs": [
    {
     "data": {
      "text/html": [
       "<div>\n",
       "<style scoped>\n",
       "    .dataframe tbody tr th:only-of-type {\n",
       "        vertical-align: middle;\n",
       "    }\n",
       "\n",
       "    .dataframe tbody tr th {\n",
       "        vertical-align: top;\n",
       "    }\n",
       "\n",
       "    .dataframe thead th {\n",
       "        text-align: right;\n",
       "    }\n",
       "</style>\n",
       "<table border=\"1\" class=\"dataframe\">\n",
       "  <thead>\n",
       "    <tr style=\"text-align: right;\">\n",
       "      <th></th>\n",
       "      <th>TV</th>\n",
       "      <th>radio</th>\n",
       "      <th>newspaper</th>\n",
       "      <th>sales</th>\n",
       "    </tr>\n",
       "  </thead>\n",
       "  <tbody>\n",
       "    <tr>\n",
       "      <th>TV</th>\n",
       "      <td>1.000000</td>\n",
       "      <td>0.054809</td>\n",
       "      <td>0.056648</td>\n",
       "      <td>0.782224</td>\n",
       "    </tr>\n",
       "    <tr>\n",
       "      <th>radio</th>\n",
       "      <td>0.054809</td>\n",
       "      <td>1.000000</td>\n",
       "      <td>0.354104</td>\n",
       "      <td>0.576223</td>\n",
       "    </tr>\n",
       "    <tr>\n",
       "      <th>newspaper</th>\n",
       "      <td>0.056648</td>\n",
       "      <td>0.354104</td>\n",
       "      <td>1.000000</td>\n",
       "      <td>0.228299</td>\n",
       "    </tr>\n",
       "    <tr>\n",
       "      <th>sales</th>\n",
       "      <td>0.782224</td>\n",
       "      <td>0.576223</td>\n",
       "      <td>0.228299</td>\n",
       "      <td>1.000000</td>\n",
       "    </tr>\n",
       "  </tbody>\n",
       "</table>\n",
       "</div>"
      ],
      "text/plain": [
       "                 TV     radio  newspaper     sales\n",
       "TV         1.000000  0.054809   0.056648  0.782224\n",
       "radio      0.054809  1.000000   0.354104  0.576223\n",
       "newspaper  0.056648  0.354104   1.000000  0.228299\n",
       "sales      0.782224  0.576223   0.228299  1.000000"
      ]
     },
     "execution_count": 13,
     "metadata": {},
     "output_type": "execute_result"
    }
   ],
   "source": [
    "#check correlation between input and output\n",
    "df.corr()"
   ]
  },
  {
   "cell_type": "code",
   "execution_count": 14,
   "metadata": {},
   "outputs": [
    {
     "data": {
      "image/png": "[encoded data removed]",
      "text/plain": [
       "<Figure size 432x288 with 2 Axes>"
      ]
     },
     "metadata": {
      "needs_background": "light"
     },
     "output_type": "display_data"
    }
   ],
   "source": [
    "#Visualise corr() value\n",
    "sns.heatmap(df.corr(),annot=True)\n",
    "plt.show()#correlation values with TV and sales=0.78 , It is very good\n",
    "#correlation values with radio and sales=0.58 , It is good(ok)\n",
    "#correlation values with newspaper and sales=0.23 , It is very bad"
   ]
  },
  {
   "cell_type": "code",
   "execution_count": 15,
   "metadata": {},
   "outputs": [],
   "source": [
    "#correlation values with TV and sales=0.78 , It is very good\n",
    "#correlation values with radio and sales=0.58 , It is good(ok)\n",
    "#correlation values with newspaper and sales=0.23 , It is very bad"
   ]
  },
  {
   "cell_type": "code",
   "execution_count": 16,
   "metadata": {},
   "outputs": [
    {
     "data": {
      "text/plain": [
       "Index(['TV', 'radio', 'newspaper', 'sales'], dtype='object')"
      ]
     },
     "execution_count": 16,
     "metadata": {},
     "output_type": "execute_result"
    }
   ],
   "source": [
    "df.columns"
   ]
  },
  {
   "cell_type": "code",
   "execution_count": 17,
   "metadata": {},
   "outputs": [
    {
     "data": {
      "image/png": "[encoded data removed]",
      "text/plain": [
       "<Figure size 360x360 with 3 Axes>"
      ]
     },
     "metadata": {
      "needs_background": "light"
     },
     "output_type": "display_data"
    }
   ],
   "source": [
    "X=  ['TV', 'radio', 'newspaper'] #column name\n",
    "Y=df[\"sales\"]\n",
    "plt.figure(figsize=(5,5))\n",
    "for i,col in enumerate(X): #enumerate() : to return 2 values from list\n",
    "    #1. index 2. value at index\n",
    "    plt.subplot(2,2,i+1) #subplot(rows,cols)\n",
    "    plt.xlabel(col)\n",
    "    plt.ylabel(\"sales\")\n",
    "    plt.scatter(df[col],Y) #plt.scatter(X,Y)\n",
    "    \n",
    "plt.show()"
   ]
  },
  {
   "cell_type": "code",
   "execution_count": 18,
   "metadata": {},
   "outputs": [],
   "source": [
    "#Performing the modeling \n",
    "#Modeling with input : TV and output sales \n",
    "#SLR : only one input\n",
    "#Select input and output from dataset\n",
    "X=df[[\"TV\"]] #input always 2D array [[]]\n",
    "Y=df[\"sales\"]"
   ]
  },
  {
   "cell_type": "code",
   "execution_count": 19,
   "metadata": {},
   "outputs": [
    {
     "data": {
      "text/html": [
       "<div>\n",
       "<style scoped>\n",
       "    .dataframe tbody tr th:only-of-type {\n",
       "        vertical-align: middle;\n",
       "    }\n",
       "\n",
       "    .dataframe tbody tr th {\n",
       "        vertical-align: top;\n",
       "    }\n",
       "\n",
       "    .dataframe thead th {\n",
       "        text-align: right;\n",
       "    }\n",
       "</style>\n",
       "<table border=\"1\" class=\"dataframe\">\n",
       "  <thead>\n",
       "    <tr style=\"text-align: right;\">\n",
       "      <th></th>\n",
       "      <th>TV</th>\n",
       "    </tr>\n",
       "  </thead>\n",
       "  <tbody>\n",
       "    <tr>\n",
       "      <th>0</th>\n",
       "      <td>230.1</td>\n",
       "    </tr>\n",
       "    <tr>\n",
       "      <th>1</th>\n",
       "      <td>44.5</td>\n",
       "    </tr>\n",
       "    <tr>\n",
       "      <th>2</th>\n",
       "      <td>17.2</td>\n",
       "    </tr>\n",
       "    <tr>\n",
       "      <th>3</th>\n",
       "      <td>151.5</td>\n",
       "    </tr>\n",
       "    <tr>\n",
       "      <th>4</th>\n",
       "      <td>180.8</td>\n",
       "    </tr>\n",
       "  </tbody>\n",
       "</table>\n",
       "</div>"
      ],
      "text/plain": [
       "      TV\n",
       "0  230.1\n",
       "1   44.5\n",
       "2   17.2\n",
       "3  151.5\n",
       "4  180.8"
      ]
     },
     "execution_count": 19,
     "metadata": {},
     "output_type": "execute_result"
    }
   ],
   "source": [
    "X.head()"
   ]
  },
  {
   "cell_type": "code",
   "execution_count": 20,
   "metadata": {},
   "outputs": [
    {
     "data": {
      "text/plain": [
       "0      22.1\n",
       "1      10.4\n",
       "2       9.3\n",
       "3      18.5\n",
       "4      12.9\n",
       "       ... \n",
       "195     7.6\n",
       "196     9.7\n",
       "197    12.8\n",
       "198    25.5\n",
       "199    13.4\n",
       "Name: sales, Length: 200, dtype: float64"
      ]
     },
     "execution_count": 20,
     "metadata": {},
     "output_type": "execute_result"
    }
   ],
   "source": [
    "Y"
   ]
  },
  {
   "cell_type": "code",
   "execution_count": 21,
   "metadata": {},
   "outputs": [],
   "source": [
    "#train_test_split() : inbuilt  function It is used to split dataset \n",
    "#into training and testing , 70% data use in training and 30% data used in\n",
    "#testing\n",
    "#train_test_split()  : this function define in inbuilt class\n",
    "#train_test_split class\n",
    "from sklearn.model_selection import train_test_split"
   ]
  },
  {
   "cell_type": "code",
   "execution_count": 22,
   "metadata": {},
   "outputs": [],
   "source": [
    "X_train,X_test,Y_train,Y_test=train_test_split(X,Y,test_size=0.3,random_state=1)"
   ]
  },
  {
   "cell_type": "code",
   "execution_count": 23,
   "metadata": {},
   "outputs": [
    {
     "data": {
      "text/plain": [
       "(140, 1)"
      ]
     },
     "execution_count": 23,
     "metadata": {},
     "output_type": "execute_result"
    }
   ],
   "source": [
    "X_train.shape"
   ]
  },
  {
   "cell_type": "code",
   "execution_count": 24,
   "metadata": {},
   "outputs": [
    {
     "data": {
      "text/plain": [
       "(140,)"
      ]
     },
     "execution_count": 24,
     "metadata": {},
     "output_type": "execute_result"
    }
   ],
   "source": [
    "Y_train.shape"
   ]
  },
  {
   "cell_type": "code",
   "execution_count": 25,
   "metadata": {},
   "outputs": [
    {
     "data": {
      "text/plain": [
       "(60, 1)"
      ]
     },
     "execution_count": 25,
     "metadata": {},
     "output_type": "execute_result"
    }
   ],
   "source": [
    "X_test.shape"
   ]
  },
  {
   "cell_type": "code",
   "execution_count": 26,
   "metadata": {},
   "outputs": [
    {
     "data": {
      "text/plain": [
       "(60,)"
      ]
     },
     "execution_count": 26,
     "metadata": {},
     "output_type": "execute_result"
    }
   ],
   "source": [
    "Y_test.shape"
   ]
  },
  {
   "cell_type": "code",
   "execution_count": 27,
   "metadata": {},
   "outputs": [
    {
     "data": {
      "text/html": [
       "<div>\n",
       "<style scoped>\n",
       "    .dataframe tbody tr th:only-of-type {\n",
       "        vertical-align: middle;\n",
       "    }\n",
       "\n",
       "    .dataframe tbody tr th {\n",
       "        vertical-align: top;\n",
       "    }\n",
       "\n",
       "    .dataframe thead th {\n",
       "        text-align: right;\n",
       "    }\n",
       "</style>\n",
       "<table border=\"1\" class=\"dataframe\">\n",
       "  <thead>\n",
       "    <tr style=\"text-align: right;\">\n",
       "      <th></th>\n",
       "      <th>TV</th>\n",
       "    </tr>\n",
       "  </thead>\n",
       "  <tbody>\n",
       "    <tr>\n",
       "      <th>116</th>\n",
       "      <td>139.2</td>\n",
       "    </tr>\n",
       "    <tr>\n",
       "      <th>67</th>\n",
       "      <td>139.3</td>\n",
       "    </tr>\n",
       "    <tr>\n",
       "      <th>78</th>\n",
       "      <td>5.4</td>\n",
       "    </tr>\n",
       "    <tr>\n",
       "      <th>42</th>\n",
       "      <td>293.6</td>\n",
       "    </tr>\n",
       "    <tr>\n",
       "      <th>17</th>\n",
       "      <td>281.4</td>\n",
       "    </tr>\n",
       "    <tr>\n",
       "      <th>5</th>\n",
       "      <td>8.7</td>\n",
       "    </tr>\n",
       "    <tr>\n",
       "      <th>127</th>\n",
       "      <td>80.2</td>\n",
       "    </tr>\n",
       "    <tr>\n",
       "      <th>105</th>\n",
       "      <td>137.9</td>\n",
       "    </tr>\n",
       "    <tr>\n",
       "      <th>48</th>\n",
       "      <td>227.2</td>\n",
       "    </tr>\n",
       "    <tr>\n",
       "      <th>66</th>\n",
       "      <td>31.5</td>\n",
       "    </tr>\n",
       "    <tr>\n",
       "      <th>54</th>\n",
       "      <td>262.7</td>\n",
       "    </tr>\n",
       "    <tr>\n",
       "      <th>84</th>\n",
       "      <td>213.5</td>\n",
       "    </tr>\n",
       "    <tr>\n",
       "      <th>183</th>\n",
       "      <td>287.6</td>\n",
       "    </tr>\n",
       "    <tr>\n",
       "      <th>158</th>\n",
       "      <td>11.7</td>\n",
       "    </tr>\n",
       "    <tr>\n",
       "      <th>166</th>\n",
       "      <td>17.9</td>\n",
       "    </tr>\n",
       "    <tr>\n",
       "      <th>113</th>\n",
       "      <td>209.6</td>\n",
       "    </tr>\n",
       "    <tr>\n",
       "      <th>12</th>\n",
       "      <td>23.8</td>\n",
       "    </tr>\n",
       "    <tr>\n",
       "      <th>117</th>\n",
       "      <td>76.4</td>\n",
       "    </tr>\n",
       "    <tr>\n",
       "      <th>93</th>\n",
       "      <td>250.9</td>\n",
       "    </tr>\n",
       "    <tr>\n",
       "      <th>120</th>\n",
       "      <td>141.3</td>\n",
       "    </tr>\n",
       "  </tbody>\n",
       "</table>\n",
       "</div>"
      ],
      "text/plain": [
       "        TV\n",
       "116  139.2\n",
       "67   139.3\n",
       "78     5.4\n",
       "42   293.6\n",
       "17   281.4\n",
       "5      8.7\n",
       "127   80.2\n",
       "105  137.9\n",
       "48   227.2\n",
       "66    31.5\n",
       "54   262.7\n",
       "84   213.5\n",
       "183  287.6\n",
       "158   11.7\n",
       "166   17.9\n",
       "113  209.6\n",
       "12    23.8\n",
       "117   76.4\n",
       "93   250.9\n",
       "120  141.3"
      ]
     },
     "execution_count": 27,
     "metadata": {},
     "output_type": "execute_result"
    }
   ],
   "source": [
    "X_train.head(20)"
   ]
  },
  {
   "cell_type": "code",
   "execution_count": 28,
   "metadata": {},
   "outputs": [
    {
     "data": {
      "text/html": [
       "<div>\n",
       "<style scoped>\n",
       "    .dataframe tbody tr th:only-of-type {\n",
       "        vertical-align: middle;\n",
       "    }\n",
       "\n",
       "    .dataframe tbody tr th {\n",
       "        vertical-align: top;\n",
       "    }\n",
       "\n",
       "    .dataframe thead th {\n",
       "        text-align: right;\n",
       "    }\n",
       "</style>\n",
       "<table border=\"1\" class=\"dataframe\">\n",
       "  <thead>\n",
       "    <tr style=\"text-align: right;\">\n",
       "      <th></th>\n",
       "      <th>TV</th>\n",
       "    </tr>\n",
       "  </thead>\n",
       "  <tbody>\n",
       "    <tr>\n",
       "      <th>58</th>\n",
       "      <td>210.8</td>\n",
       "    </tr>\n",
       "    <tr>\n",
       "      <th>40</th>\n",
       "      <td>202.5</td>\n",
       "    </tr>\n",
       "    <tr>\n",
       "      <th>34</th>\n",
       "      <td>95.7</td>\n",
       "    </tr>\n",
       "    <tr>\n",
       "      <th>102</th>\n",
       "      <td>280.2</td>\n",
       "    </tr>\n",
       "    <tr>\n",
       "      <th>184</th>\n",
       "      <td>253.8</td>\n",
       "    </tr>\n",
       "    <tr>\n",
       "      <th>198</th>\n",
       "      <td>283.6</td>\n",
       "    </tr>\n",
       "    <tr>\n",
       "      <th>95</th>\n",
       "      <td>163.3</td>\n",
       "    </tr>\n",
       "    <tr>\n",
       "      <th>4</th>\n",
       "      <td>180.8</td>\n",
       "    </tr>\n",
       "    <tr>\n",
       "      <th>29</th>\n",
       "      <td>70.6</td>\n",
       "    </tr>\n",
       "    <tr>\n",
       "      <th>168</th>\n",
       "      <td>215.4</td>\n",
       "    </tr>\n",
       "    <tr>\n",
       "      <th>171</th>\n",
       "      <td>164.5</td>\n",
       "    </tr>\n",
       "    <tr>\n",
       "      <th>18</th>\n",
       "      <td>69.2</td>\n",
       "    </tr>\n",
       "    <tr>\n",
       "      <th>11</th>\n",
       "      <td>214.7</td>\n",
       "    </tr>\n",
       "    <tr>\n",
       "      <th>89</th>\n",
       "      <td>109.8</td>\n",
       "    </tr>\n",
       "    <tr>\n",
       "      <th>110</th>\n",
       "      <td>225.8</td>\n",
       "    </tr>\n",
       "    <tr>\n",
       "      <th>118</th>\n",
       "      <td>125.7</td>\n",
       "    </tr>\n",
       "    <tr>\n",
       "      <th>159</th>\n",
       "      <td>131.7</td>\n",
       "    </tr>\n",
       "    <tr>\n",
       "      <th>35</th>\n",
       "      <td>290.7</td>\n",
       "    </tr>\n",
       "    <tr>\n",
       "      <th>136</th>\n",
       "      <td>25.6</td>\n",
       "    </tr>\n",
       "    <tr>\n",
       "      <th>59</th>\n",
       "      <td>210.7</td>\n",
       "    </tr>\n",
       "  </tbody>\n",
       "</table>\n",
       "</div>"
      ],
      "text/plain": [
       "        TV\n",
       "58   210.8\n",
       "40   202.5\n",
       "34    95.7\n",
       "102  280.2\n",
       "184  253.8\n",
       "198  283.6\n",
       "95   163.3\n",
       "4    180.8\n",
       "29    70.6\n",
       "168  215.4\n",
       "171  164.5\n",
       "18    69.2\n",
       "11   214.7\n",
       "89   109.8\n",
       "110  225.8\n",
       "118  125.7\n",
       "159  131.7\n",
       "35   290.7\n",
       "136   25.6\n",
       "59   210.7"
      ]
     },
     "execution_count": 28,
     "metadata": {},
     "output_type": "execute_result"
    }
   ],
   "source": [
    "X_test.head(20)"
   ]
  },
  {
   "cell_type": "code",
   "execution_count": 29,
   "metadata": {},
   "outputs": [],
   "source": [
    "#Perform the Linear regression  model\n",
    "#call LinearRegression class\n",
    "from sklearn.linear_model import LinearRegression"
   ]
  },
  {
   "cell_type": "code",
   "execution_count": 30,
   "metadata": {},
   "outputs": [],
   "source": [
    "#Create a object of LinearRegression class\n",
    "lr=LinearRegression()"
   ]
  },
  {
   "cell_type": "code",
   "execution_count": 31,
   "metadata": {},
   "outputs": [
    {
     "data": {
      "text/plain": [
       "LinearRegression()"
      ]
     },
     "execution_count": 31,
     "metadata": {},
     "output_type": "execute_result"
    }
   ],
   "source": [
    "#Train the model (70% training data )with the help of LinearRegression class :\n",
    "#use inbuilt method fit()\n",
    "lr.fit(X_train,Y_train)"
   ]
  },
  {
   "cell_type": "code",
   "execution_count": 32,
   "metadata": {},
   "outputs": [
    {
     "name": "stdout",
     "output_type": "stream",
     "text": [
      "slope :  [0.04812204]\n",
      "Intercept :  6.923519536059554\n"
     ]
    }
   ],
   "source": [
    "#check slope/coefficeint and intercept\n",
    "print(\"slope : \",lr.coef_)  #Y=m*TV+b\n",
    "print(\"Intercept : \",lr.intercept_)"
   ]
  },
  {
   "cell_type": "code",
   "execution_count": 33,
   "metadata": {},
   "outputs": [
    {
     "name": "stdout",
     "output_type": "stream",
     "text": [
      "[17.06764591 16.66823297 11.52879892 20.4073156  19.1368937  20.57093054\n",
      " 14.78184893 15.62398466 10.32093567 17.2890073  14.83959538 10.25356482\n",
      " 17.25532187 12.20731971 17.78947654 12.97246017 13.26119242 20.91259704\n",
      "  8.1554438  17.06283371 11.75497252 10.18619396  8.13138278 12.09182681\n",
      " 12.35649804 15.98971218  8.99757953 18.89628349 14.95027608 18.47762173\n",
      " 18.46799732 18.2081383  14.12738917 15.11389102 18.87703468 15.82128503\n",
      " 17.62586159 13.15051172 17.35637816  7.86671155  7.55391828 11.2737521\n",
      "  7.82340171 16.74522823  7.27481044 14.01189627 10.68666319 17.89534503\n",
      " 16.78853807 17.96752809 20.864475   12.84734286  7.85708714 15.71060434\n",
      " 19.70473379 14.89252963 17.43818563  8.12657058 18.0926454   8.99276733]\n"
     ]
    }
   ],
   "source": [
    "#Testing the model \n",
    "#perform the testing use predict() inbuilt method of LinearRegression class\n",
    "Y_pred=lr.predict(X_test) #Y_pred=m*TV+b\n",
    "print(Y_pred)"
   ]
  },
  {
   "cell_type": "code",
   "execution_count": 34,
   "metadata": {},
   "outputs": [
    {
     "data": {
      "text/plain": [
       "58     23.8\n",
       "40     16.6\n",
       "34      9.5\n",
       "102    14.8\n",
       "184    17.6\n",
       "198    25.5\n",
       "95     16.9\n",
       "4      12.9\n",
       "29     10.5\n",
       "168    17.1\n",
       "171    14.5\n",
       "18     11.3\n",
       "11     17.4\n",
       "89     16.7\n",
       "110    13.4\n",
       "118    15.9\n",
       "159    12.9\n",
       "35     12.8\n",
       "136     9.5\n",
       "59     18.4\n",
       "51     10.7\n",
       "16     12.5\n",
       "44      8.5\n",
       "94     11.5\n",
       "31     11.9\n",
       "162    14.9\n",
       "38     10.1\n",
       "28     18.9\n",
       "193    19.6\n",
       "27     15.9\n",
       "47     23.2\n",
       "165    11.9\n",
       "194    17.3\n",
       "177    11.7\n",
       "176    20.2\n",
       "97     15.5\n",
       "174    11.5\n",
       "73     11.0\n",
       "69     22.3\n",
       "172     7.6\n",
       "108     5.3\n",
       "107     8.7\n",
       "189     6.7\n",
       "14     19.0\n",
       "56      5.5\n",
       "19     14.6\n",
       "114    14.6\n",
       "39     21.5\n",
       "185    22.6\n",
       "124    19.7\n",
       "98     25.4\n",
       "123    15.2\n",
       "119     6.6\n",
       "53     21.2\n",
       "33     17.4\n",
       "179    12.6\n",
       "181    12.2\n",
       "106     7.2\n",
       "199    13.4\n",
       "138     9.6\n",
       "Name: sales, dtype: float64"
      ]
     },
     "execution_count": 34,
     "metadata": {},
     "output_type": "execute_result"
    }
   ],
   "source": [
    "Y_test"
   ]
  },
  {
   "cell_type": "code",
   "execution_count": 35,
   "metadata": {},
   "outputs": [
    {
     "data": {
      "image/png": "[encoded data removed]",
      "text/plain": [
       "<Figure size 432x288 with 1 Axes>"
      ]
     },
     "metadata": {
      "needs_background": "light"
     },
     "output_type": "display_data"
    }
   ],
   "source": [
    "#Lecture 2-Aug-2021\n",
    "#Visualise predicted line\n",
    "sns.scatterplot(data=df,x=\"TV\",y=\"sales\",color=\"red\")\n",
    "plt.plot(X_test,Y_pred,color=\"green\") #plot(input,output)\n",
    "plt.show()"
   ]
  },
  {
   "cell_type": "code",
   "execution_count": 36,
   "metadata": {},
   "outputs": [
    {
     "data": {
      "text/plain": [
       "10.571057434656955"
      ]
     },
     "execution_count": 36,
     "metadata": {},
     "output_type": "execute_result"
    }
   ],
   "source": [
    "#Check mean squared error , call mean_squared_error inbuilt class which\n",
    "#define in sklearn.metrics\n",
    "from sklearn.metrics import mean_squared_error\n",
    "\n",
    "mean_squared_error(Y_test,Y_pred)"
   ]
  },
  {
   "cell_type": "code",
   "execution_count": 37,
   "metadata": {},
   "outputs": [
    {
     "data": {
      "text/plain": [
       "0.575061860494331"
      ]
     },
     "execution_count": 37,
     "metadata": {},
     "output_type": "execute_result"
    }
   ],
   "source": [
    "#Evalution of model : find r2-score means r-squared (0-1)\n",
    "#r2_score inbuilt class which define in sklearn.metrics \n",
    "from sklearn.metrics import r2_score\n",
    "r2_score(Y_test,Y_pred) #just fine means ok . no good and no bed"
   ]
  },
  {
   "cell_type": "code",
   "execution_count": 38,
   "metadata": {},
   "outputs": [],
   "source": [
    "#Performing the modeling With the help of Simple Linear Regression \n",
    "#Modeling With input radio and target sales\n",
    "#Step 1: First input means X and output Y(target)\n",
    "X=df[[\"radio\"]] #always input 2D [[]]\n",
    "Y=df[\"sales\"] #always output means target 1D "
   ]
  },
  {
   "cell_type": "code",
   "execution_count": 39,
   "metadata": {},
   "outputs": [],
   "source": [
    "X_train,X_test,Y_train,Y_test=train_test_split(X,Y,test_size=0.3,random_state=1)"
   ]
  },
  {
   "cell_type": "code",
   "execution_count": 40,
   "metadata": {},
   "outputs": [],
   "source": [
    "#Create a object of LinearRegression class\n",
    "lr1=LinearRegression()"
   ]
  },
  {
   "cell_type": "code",
   "execution_count": 41,
   "metadata": {},
   "outputs": [
    {
     "data": {
      "text/plain": [
       "LinearRegression()"
      ]
     },
     "execution_count": 41,
     "metadata": {},
     "output_type": "execute_result"
    }
   ],
   "source": [
    "#train the model \n",
    "lr1.fit(X_train,Y_train)"
   ]
  },
  {
   "cell_type": "code",
   "execution_count": 42,
   "metadata": {},
   "outputs": [
    {
     "name": "stdout",
     "output_type": "stream",
     "text": [
      "slope :  [0.1874808]\n",
      "Intercept :  9.440936561425886\n"
     ]
    }
   ],
   "source": [
    "#check slope/coefficeint and intercept\n",
    "print(\"slope : \",lr1.coef_)  #Y=m*TV+b\n",
    "print(\"Intercept : \",lr1.intercept_)"
   ]
  },
  {
   "cell_type": "code",
   "execution_count": 43,
   "metadata": {},
   "outputs": [
    {
     "name": "stdout",
     "output_type": "stream",
     "text": [
      "[18.73998434 13.62175845  9.70340968 11.33449266 13.43427764 17.31513024\n",
      " 15.3653299  11.46572922 12.44062939 13.86548349 13.35928532 13.284293\n",
      " 13.94047581 18.4025189  10.97827914 16.35897815 12.89058332 10.20960785\n",
      " 16.75268784 14.97162022 11.24075226 16.30273391 14.25919317 12.06566779\n",
      " 12.70310252 12.83433908 14.44667397 14.5216663  17.31513024 12.57186595\n",
      " 17.22138984 10.07837129 16.11525311 10.90328682 15.10285678 13.3780334\n",
      " 10.07837129 10.50957713 17.67134377 13.20930068  9.51592888  9.4971808\n",
      " 11.70945427 15.60905495 14.7091471  13.92172773 18.21503809 16.5089628\n",
      " 17.89632073 15.49656647 17.37137449 15.92777231 12.44062939 18.10254961\n",
      " 13.1905526  11.31574458 10.45333289 11.50322538 11.05327146 14.29668933]\n"
     ]
    }
   ],
   "source": [
    "#Testing the model \n",
    "#perform the testing use predict() inbuilt method of LinearRegression class\n",
    "Y_pred=lr1.predict(X_test) #Y_pred=m*TV+b\n",
    "print(Y_pred)"
   ]
  },
  {
   "cell_type": "code",
   "execution_count": 44,
   "metadata": {},
   "outputs": [
    {
     "data": {
      "image/png": "[encoded data removed]",
      "text/plain": [
       "<Figure size 432x288 with 1 Axes>"
      ]
     },
     "metadata": {
      "needs_background": "light"
     },
     "output_type": "display_data"
    }
   ],
   "source": [
    "#Visualise predicted line\n",
    "sns.scatterplot(data=df,x=\"radio\",y=\"sales\",color=\"red\")\n",
    "plt.plot(X_test,Y_pred,color=\"green\") #plot(input,output)\n",
    "plt.show()"
   ]
  },
  {
   "cell_type": "code",
   "execution_count": 45,
   "metadata": {},
   "outputs": [
    {
     "data": {
      "text/plain": [
       "14.604130559272193"
      ]
     },
     "execution_count": 45,
     "metadata": {},
     "output_type": "execute_result"
    }
   ],
   "source": [
    "mean_squared_error(Y_test,Y_pred)"
   ]
  },
  {
   "cell_type": "code",
   "execution_count": 46,
   "metadata": {},
   "outputs": [
    {
     "data": {
      "text/plain": [
       "0.41293932917162335"
      ]
     },
     "execution_count": 46,
     "metadata": {},
     "output_type": "execute_result"
    }
   ],
   "source": [
    "#Evaluation of model\n",
    "r2_score(Y_test,Y_pred)"
   ]
  },
  {
   "cell_type": "code",
   "execution_count": 47,
   "metadata": {},
   "outputs": [],
   "source": [
    "#Performing the modeling With the help of Simple Linear Regression \n",
    "#Modeling With input newspaper and target sales\n",
    "#Step 1: First input means X and output Y(target)\n",
    "X=df[[\"newspaper\"]] #always input 2D [[]]\n",
    "Y=df[\"sales\"] #always output means target 1D "
   ]
  },
  {
   "cell_type": "code",
   "execution_count": 48,
   "metadata": {},
   "outputs": [],
   "source": [
    "X_train,X_test,Y_train,Y_test=train_test_split(X,Y,test_size=0.3,random_state=1)"
   ]
  },
  {
   "cell_type": "code",
   "execution_count": 49,
   "metadata": {},
   "outputs": [],
   "source": [
    "#Create a object of LinearRegression class\n",
    "lr2=LinearRegression()"
   ]
  },
  {
   "cell_type": "code",
   "execution_count": 50,
   "metadata": {},
   "outputs": [
    {
     "data": {
      "text/plain": [
       "LinearRegression()"
      ]
     },
     "execution_count": 50,
     "metadata": {},
     "output_type": "execute_result"
    }
   ],
   "source": [
    "#train the model \n",
    "lr2.fit(X_train,Y_train)"
   ]
  },
  {
   "cell_type": "code",
   "execution_count": 51,
   "metadata": {},
   "outputs": [
    {
     "name": "stdout",
     "output_type": "stream",
     "text": [
      "slope :  [0.06532045]\n",
      "Intercept :  11.82966888487788\n"
     ]
    }
   ],
   "source": [
    "#check slope/coefficeint and intercept\n",
    "print(\"slope : \",lr2.coef_)  #Y=m*TV+b\n",
    "print(\"Intercept : \",lr2.intercept_)"
   ]
  },
  {
   "cell_type": "code",
   "execution_count": 52,
   "metadata": {},
   "outputs": [],
   "source": [
    "#Testing the model \n",
    "#perform the testing use predict() inbuilt method of LinearRegression class\n",
    "Y_pred=lr2.predict(X_test) #Y_pred=m*TV+b\n"
   ]
  },
  {
   "cell_type": "code",
   "execution_count": 53,
   "metadata": {},
   "outputs": [
    {
     "data": {
      "image/png": "[encoded data removed]",
      "text/plain": [
       "<Figure size 432x288 with 1 Axes>"
      ]
     },
     "metadata": {
      "needs_background": "light"
     },
     "output_type": "display_data"
    }
   ],
   "source": [
    "#Visualise predicted line\n",
    "sns.scatterplot(data=df,x=\"newspaper\",y=\"sales\",color=\"red\")\n",
    "plt.plot(X_test,Y_pred,color=\"green\") #plot(input,output)\n",
    "plt.show()"
   ]
  },
  {
   "cell_type": "code",
   "execution_count": 54,
   "metadata": {},
   "outputs": [
    {
     "data": {
      "text/plain": [
       "25.497452374414927"
      ]
     },
     "execution_count": 54,
     "metadata": {},
     "output_type": "execute_result"
    }
   ],
   "source": [
    "mean_squared_error(Y_test,Y_pred)"
   ]
  },
  {
   "cell_type": "code",
   "execution_count": 55,
   "metadata": {},
   "outputs": [
    {
     "data": {
      "text/plain": [
       "-0.024953278429509007"
      ]
     },
     "execution_count": 55,
     "metadata": {},
     "output_type": "execute_result"
    }
   ],
   "source": [
    "#Evaluation of model\n",
    "r2_score(Y_test,Y_pred)"
   ]
  },
  {
   "cell_type": "code",
   "execution_count": 56,
   "metadata": {},
   "outputs": [
    {
     "data": {
      "text/plain": [
       "' \\nslope of TV : 0.04812204  and MSE of TV  :  10.571057434656955 r2-score=0.578\\nslope of radio :0.1874808 and MSE of radio : 14.604130559272193 r2-score=0.41\\nslope of newspaper : 0.06532045 and MSE of newspaper :25.49745237441493 r2=-0.02\\n'"
      ]
     },
     "execution_count": 56,
     "metadata": {},
     "output_type": "execute_result"
    }
   ],
   "source": [
    "''' \n",
    "slope of TV : 0.04812204  and MSE of TV  :  10.571057434656955 r2-score=0.578\n",
    "slope of radio :0.1874808 and MSE of radio : 14.604130559272193 r2-score=0.41\n",
    "slope of newspaper : 0.06532045 and MSE of newspaper :25.49745237441493 r2=-0.02\n",
    "'''"
   ]
  },
  {
   "cell_type": "code",
   "execution_count": 57,
   "metadata": {},
   "outputs": [],
   "source": [
    "#multiple linear regression means many input but output only one \n",
    "#Equation of MLR  :   Y_pred=m1X1+m2X2+m3X3+......+mnXn+b\n",
    "#select input and output from dataset : df\n",
    "X=df[[\"TV\",\"radio\",\"newspaper\"]] #input features always 2D\n",
    "Y=df[\"sales\"] #target means output : 1D"
   ]
  },
  {
   "cell_type": "code",
   "execution_count": 58,
   "metadata": {},
   "outputs": [],
   "source": [
    "#train_test_split\n",
    "X_train,X_test,Y_train,Y_test=train_test_split(X,Y,test_size=0.3,random_state=1)"
   ]
  },
  {
   "cell_type": "code",
   "execution_count": 59,
   "metadata": {},
   "outputs": [
    {
     "data": {
      "text/html": [
       "<div>\n",
       "<style scoped>\n",
       "    .dataframe tbody tr th:only-of-type {\n",
       "        vertical-align: middle;\n",
       "    }\n",
       "\n",
       "    .dataframe tbody tr th {\n",
       "        vertical-align: top;\n",
       "    }\n",
       "\n",
       "    .dataframe thead th {\n",
       "        text-align: right;\n",
       "    }\n",
       "</style>\n",
       "<table border=\"1\" class=\"dataframe\">\n",
       "  <thead>\n",
       "    <tr style=\"text-align: right;\">\n",
       "      <th></th>\n",
       "      <th>TV</th>\n",
       "      <th>radio</th>\n",
       "      <th>newspaper</th>\n",
       "    </tr>\n",
       "  </thead>\n",
       "  <tbody>\n",
       "    <tr>\n",
       "      <th>116</th>\n",
       "      <td>139.2</td>\n",
       "      <td>14.3</td>\n",
       "      <td>25.6</td>\n",
       "    </tr>\n",
       "    <tr>\n",
       "      <th>67</th>\n",
       "      <td>139.3</td>\n",
       "      <td>14.5</td>\n",
       "      <td>10.2</td>\n",
       "    </tr>\n",
       "    <tr>\n",
       "      <th>78</th>\n",
       "      <td>5.4</td>\n",
       "      <td>29.9</td>\n",
       "      <td>9.4</td>\n",
       "    </tr>\n",
       "    <tr>\n",
       "      <th>42</th>\n",
       "      <td>293.6</td>\n",
       "      <td>27.7</td>\n",
       "      <td>1.8</td>\n",
       "    </tr>\n",
       "    <tr>\n",
       "      <th>17</th>\n",
       "      <td>281.4</td>\n",
       "      <td>39.6</td>\n",
       "      <td>55.8</td>\n",
       "    </tr>\n",
       "  </tbody>\n",
       "</table>\n",
       "</div>"
      ],
      "text/plain": [
       "        TV  radio  newspaper\n",
       "116  139.2   14.3       25.6\n",
       "67   139.3   14.5       10.2\n",
       "78     5.4   29.9        9.4\n",
       "42   293.6   27.7        1.8\n",
       "17   281.4   39.6       55.8"
      ]
     },
     "execution_count": 59,
     "metadata": {},
     "output_type": "execute_result"
    }
   ],
   "source": [
    "X_train.head()"
   ]
  },
  {
   "cell_type": "code",
   "execution_count": 60,
   "metadata": {},
   "outputs": [
    {
     "data": {
      "text/plain": [
       "(140, 3)"
      ]
     },
     "execution_count": 60,
     "metadata": {},
     "output_type": "execute_result"
    }
   ],
   "source": [
    "X_train.shape"
   ]
  },
  {
   "cell_type": "code",
   "execution_count": 61,
   "metadata": {},
   "outputs": [],
   "source": [
    "#perform the model \n",
    "#Create a object of LinearRegression class\n",
    "lr=LinearRegression()"
   ]
  },
  {
   "cell_type": "code",
   "execution_count": 62,
   "metadata": {},
   "outputs": [
    {
     "data": {
      "text/plain": [
       "LinearRegression()"
      ]
     },
     "execution_count": 62,
     "metadata": {},
     "output_type": "execute_result"
    }
   ],
   "source": [
    "#train the model use fit() \n",
    "lr.fit(X_train,Y_train)"
   ]
  },
  {
   "cell_type": "code",
   "execution_count": 63,
   "metadata": {},
   "outputs": [
    {
     "name": "stdout",
     "output_type": "stream",
     "text": [
      "slope :  [0.04695205 0.17658644 0.00185115]\n",
      "Intercept :  2.937215734690609\n"
     ]
    }
   ],
   "source": [
    "#check slope/coefficient and intercept\n",
    "print(\"slope : \",lr.coef_)  #Y=m1*TV+m2*radio+m3*newspaper+b\n",
    "print(\"Intercept : \",lr.intercept_)"
   ]
  },
  {
   "cell_type": "code",
   "execution_count": 64,
   "metadata": {},
   "outputs": [],
   "source": [
    "#slope of TV : 0.04812204 (if take only input TV with output sales)\n",
    "#slope of radio :0.1874808 (if take only input radio with output sales)\n",
    "#slope of newspaper : 0.06532045 (if take only input newspaper with output sales)"
   ]
  },
  {
   "cell_type": "code",
   "execution_count": 65,
   "metadata": {},
   "outputs": [],
   "source": [
    "#Testing the model \n",
    "#perform the testing use predict() inbuilt method of LinearRegression class\n",
    "Y_pred=lr.predict(X_test) #Y=m1*TV+m2*radio+m3*newspaper+b"
   ]
  },
  {
   "cell_type": "code",
   "execution_count": 66,
   "metadata": {},
   "outputs": [
    {
     "data": {
      "text/plain": [
       "1.9289249074665729"
      ]
     },
     "execution_count": 66,
     "metadata": {},
     "output_type": "execute_result"
    }
   ],
   "source": [
    "mean_squared_error(Y_test,Y_pred)"
   ]
  },
  {
   "cell_type": "code",
   "execution_count": 67,
   "metadata": {},
   "outputs": [
    {
     "data": {
      "text/plain": [
       "0.9224605706201435"
      ]
     },
     "execution_count": 67,
     "metadata": {},
     "output_type": "execute_result"
    }
   ],
   "source": [
    "#Evaluation of model\n",
    "r2_score(Y_test,Y_pred)"
   ]
  },
  {
   "cell_type": "code",
   "execution_count": 68,
   "metadata": {},
   "outputs": [],
   "source": [
    "#here r2-score is best because nearest to +1 and MSE is very low means we\n",
    "#create a successful model"
   ]
  },
  {
   "cell_type": "code",
   "execution_count": 69,
   "metadata": {},
   "outputs": [
    {
     "data": {
      "text/plain": [
       "'1. should not be Multicolinearity in linear regression  \\n Solve this assumption .means we removed the Multicolinearity situation\\n 2. Assumption :  Linear relationship means There should be a linear relation\\n ship. \\n when does linear regression do best work ? \\n where got better relationship \\n \\n we cannot see 3D graph on system so we have some hack(trick) , how to \\n check input and output both are related or not\\n we calculate the residual (this is error means \\n Residual =(actual output-predicted output)\\n '"
      ]
     },
     "execution_count": 69,
     "metadata": {},
     "output_type": "execute_result"
    }
   ],
   "source": [
    "#But \n",
    "# Assumptions of Linear Regression : -\n",
    "'''1. should not be Multicolinearity in linear regression  \n",
    " Solve this assumption .means we removed the Multicolinearity situation\n",
    " 2. Assumption :  Linear relationship means There should be a linear relation\n",
    " ship. \n",
    " when does linear regression do best work ? \n",
    " where got better relationship \n",
    " \n",
    " we cannot see 3D graph on system so we have some hack(trick) , how to \n",
    " check input and output both are related or not\n",
    " we calculate the residual (this is error means \n",
    " Residual =(actual output-predicted output)\n",
    " '''"
   ]
  },
  {
   "cell_type": "code",
   "execution_count": 70,
   "metadata": {},
   "outputs": [
    {
     "data": {
      "image/png": "[encoded data removed]",
      "text/plain": [
       "<Figure size 432x288 with 2 Axes>"
      ]
     },
     "metadata": {
      "needs_background": "light"
     },
     "output_type": "display_data"
    }
   ],
   "source": [
    "#Visualise corr() value\n",
    "sns.heatmap(df.corr(),annot=True)\n",
    "plt.show()"
   ]
  },
  {
   "cell_type": "code",
   "execution_count": 71,
   "metadata": {},
   "outputs": [],
   "source": [
    "#here input radio and newspaper both are corelated each other value of corr \n",
    "#between radio and newspaper =0.35 means multicolinearity situation occurs\n",
    "#so check corr of both input radio and newspapaer with o/p and remove those \n",
    "#input column whose corr value with o/p will be less \n",
    "#here newspaper is less correlated with o/p sales as compared to radio with\n",
    "#sales so remove newspaper from dataset \n",
    "#and perform TV and radio with sales"
   ]
  },
  {
   "cell_type": "code",
   "execution_count": 72,
   "metadata": {},
   "outputs": [],
   "source": [
    "#Assumption of Linear Regression \n",
    "#1. there should be a linear relationship\n",
    "#2. if occur linear relation then next check relation is homoskedatik \n",
    "#not a heteroskedastik"
   ]
  },
  {
   "cell_type": "code",
   "execution_count": 73,
   "metadata": {},
   "outputs": [
    {
     "name": "stdout",
     "output_type": "stream",
     "text": [
      "58     2.136817\n",
      "40     0.158621\n",
      "34     1.808554\n",
      "102   -3.116317\n",
      "184   -1.070471\n",
      "198    1.708007\n",
      "95     0.617457\n",
      "4     -0.541387\n",
      "29     1.347060\n",
      "168   -0.224753\n",
      "171    0.060771\n",
      "18     1.459805\n",
      "11     0.136701\n",
      "89     0.071469\n",
      "110   -1.691587\n",
      "118    0.398261\n",
      "159    0.465959\n",
      "35    -4.525915\n",
      "136   -1.543275\n",
      "59     0.343472\n",
      "51     1.346905\n",
      "16    -0.294660\n",
      "44    -0.234138\n",
      "94     1.027747\n",
      "31     0.517840\n",
      "162   -0.126586\n",
      "38     0.359318\n",
      "28    -0.546769\n",
      "193    1.407888\n",
      "27    -1.301787\n",
      "47     1.636405\n",
      "165   -2.804843\n",
      "194    1.036479\n",
      "177   -0.670989\n",
      "176    0.229407\n",
      "97     0.132310\n",
      "174   -2.503995\n",
      "73     0.922706\n",
      "69     1.381084\n",
      "172    0.161667\n",
      "108    1.629688\n",
      "107    1.422396\n",
      "189    0.704768\n",
      "14     0.585025\n",
      "56    -2.818682\n",
      "19     0.490975\n",
      "114   -0.336976\n",
      "39     1.141172\n",
      "185    2.037284\n",
      "124    0.146192\n",
      "98     1.296391\n",
      "123    0.350142\n",
      "119   -0.114749\n",
      "53     1.422384\n",
      "33    -1.539964\n",
      "179    0.089081\n",
      "181   -2.000527\n",
      "106    1.091553\n",
      "199   -1.969534\n",
      "138    0.032309\n",
      "Name: sales, dtype: float64\n"
     ]
    }
   ],
   "source": [
    "#trick\n",
    "#find the residuals \n",
    "residuals=Y_test-Y_pred\n",
    "print(residuals)"
   ]
  },
  {
   "cell_type": "code",
   "execution_count": 74,
   "metadata": {},
   "outputs": [
    {
     "data": {
      "text/plain": [
       "array([21.66318307, 16.44137936,  7.69144625, 17.9163172 , 18.67047113,\n",
       "       23.79199311, 16.2825425 , 13.44138683,  9.15294033, 17.32475313,\n",
       "       14.43922876,  9.84019547, 17.26329945, 16.62853147, 15.09158705,\n",
       "       15.50173894, 12.43404074, 17.32591521, 11.04327486, 18.05652777,\n",
       "        9.35309526, 12.79465958,  8.73413846, 10.47225333, 11.38216042,\n",
       "       15.02658554,  9.7406823 , 19.44676903, 18.19211174, 17.20178728,\n",
       "       21.56359539, 14.70484262, 16.2635213 , 12.37098906, 19.97059316,\n",
       "       15.36768988, 14.00399515, 10.0772945 , 20.91891557,  7.43833283,\n",
       "        3.67031166,  7.27760354,  5.99523188, 18.41497546,  8.31868226,\n",
       "       14.1090252 , 14.93697583, 20.35882814, 20.56271636, 19.55380813,\n",
       "       24.10360923, 14.84985778,  6.71474914, 19.77761567, 18.93996367,\n",
       "       12.5109195 , 14.20052652,  6.10844697, 15.3695344 ,  9.56769111])"
      ]
     },
     "execution_count": 74,
     "metadata": {},
     "output_type": "execute_result"
    }
   ],
   "source": [
    "Y_pred"
   ]
  },
  {
   "cell_type": "code",
   "execution_count": 75,
   "metadata": {},
   "outputs": [
    {
     "data": {
      "image/png": "[encoded data removed]",
      "text/plain": [
       "<Figure size 432x288 with 1 Axes>"
      ]
     },
     "metadata": {
      "needs_background": "light"
     },
     "output_type": "display_data"
    }
   ],
   "source": [
    "#visualize scatterplot between Y_pred and residuals means \n",
    "#here input x=Y_pred  and y=residuals because residuals depend on y_pred value\n",
    "plt.figure()\n",
    "sns.scatterplot(Y_pred,residuals)\n",
    "\n",
    "plt.show()"
   ]
  },
  {
   "cell_type": "code",
   "execution_count": 76,
   "metadata": {},
   "outputs": [],
   "source": [
    "#work on first assumption\n",
    "#First there should be no multicolinearity\n",
    "# Multicolinearity means here radio is correlated with sales and newspaper (I/P)\n",
    "#is correlated with radio(Input) corr value 0.35 that means indirectly newspaper\n",
    "#also getting corelated with sales\n",
    "#here correlated with newspaper and sales =0.23 it is bad correlation\n",
    "#So in this case , remove any one input(radio and newspaper)but which input\n",
    "#will be remove so we remove those input whose bad correlation with output\n",
    "#here newspaper is bad correlated with output sales then remove newspaper \n",
    "#column means newspaper column input is not imp to predict the value\n",
    "#of sales(o/p)"
   ]
  },
  {
   "cell_type": "code",
   "execution_count": 77,
   "metadata": {},
   "outputs": [],
   "source": [
    "#corr value of radio with sales :  0.58  \n",
    "#corr value of newspaper with sales : 0.23\n",
    "#corr value of radio and newspaper(both are input and correlated each other:0.35\n",
    "#so we decided , remove newspaper because corr of radio with sales>newspaper with sales\n",
    "#We have input TV and radio and target sales\n",
    "X=df[[\"TV\",\"radio\"]] #input TV and radio : 2D array\n",
    "Y=df[\"sales\"] #output which want to predict : always 1 D array"
   ]
  },
  {
   "cell_type": "code",
   "execution_count": 78,
   "metadata": {},
   "outputs": [],
   "source": [
    "#train_test_split\n",
    "X_train,X_test,Y_train,Y_test=train_test_split(X,Y,test_size=0.3,random_state=1)"
   ]
  },
  {
   "cell_type": "code",
   "execution_count": 79,
   "metadata": {},
   "outputs": [],
   "source": [
    "#create the object of LinearRegression class\n",
    "lr=LinearRegression()"
   ]
  },
  {
   "cell_type": "code",
   "execution_count": 80,
   "metadata": {},
   "outputs": [
    {
     "data": {
      "text/plain": [
       "LinearRegression()"
      ]
     },
     "execution_count": 80,
     "metadata": {},
     "output_type": "execute_result"
    }
   ],
   "source": [
    "#we train the model : use fit() inbuilt function of LinearRegression class\n",
    "#fit() passing arguments/parameters which pass input and labeeled output(70%)\n",
    "lr.fit(X_train,Y_train)"
   ]
  },
  {
   "cell_type": "code",
   "execution_count": 81,
   "metadata": {},
   "outputs": [
    {
     "data": {
      "text/plain": [
       "array([0.04697554, 0.17765046])"
      ]
     },
     "execution_count": 81,
     "metadata": {},
     "output_type": "execute_result"
    }
   ],
   "source": [
    "#check slope means coefficient \n",
    "lr.coef_    #remain same as previous if remove input newspaper \n",
    "#means no any effect of newspaper for prediction of sales"
   ]
  },
  {
   "cell_type": "code",
   "execution_count": 82,
   "metadata": {},
   "outputs": [],
   "source": [
    "#slope :  [0.04695205 0.17658644 0.00185115] if take tv,radio and newspaper\n",
    "#slope : [0.04697554, 0.17765046]  if remove newspaper means no effect the\n",
    "#value of slope of tv and radio"
   ]
  },
  {
   "cell_type": "code",
   "execution_count": 83,
   "metadata": {},
   "outputs": [
    {
     "data": {
      "text/plain": [
       "2.9647671191401574"
      ]
     },
     "execution_count": 83,
     "metadata": {},
     "output_type": "execute_result"
    }
   ],
   "source": [
    "#find intercept\n",
    "lr.intercept_   \n",
    "#intercept remain same as previous if take TV,radio and newspaper"
   ]
  },
  {
   "cell_type": "code",
   "execution_count": 84,
   "metadata": {},
   "outputs": [],
   "source": [
    "#Test the model means use inbuilt function predict()  : inbuilt method of\n",
    "#LinearRegression class\n",
    "#perform testing\n",
    "Y_pred=lr.predict(X_test) #Y_pred=m1*x_test_TV+m2*X_test_radio+b"
   ]
  },
  {
   "cell_type": "code",
   "execution_count": 85,
   "metadata": {},
   "outputs": [
    {
     "name": "stdout",
     "output_type": "stream",
     "text": [
      "Mean_Squared_Error :  1.9147050289721788\n"
     ]
    }
   ],
   "source": [
    "MSE=mean_squared_error(Y_test,Y_pred)#mean_squared_error() inbuilt function\n",
    "#which define in inbuilt class mean_squared_error , it is passing arguments\n",
    "#type function\n",
    "print(\"Mean_Squared_Error : \",MSE)"
   ]
  },
  {
   "cell_type": "code",
   "execution_count": 86,
   "metadata": {},
   "outputs": [
    {
     "name": "stdout",
     "output_type": "stream",
     "text": [
      "R2-score :  0.9230321850256801\n"
     ]
    }
   ],
   "source": [
    "score=r2_score(Y_test,Y_pred)\n",
    "print(\"R2-score : \",score)  #range of r2-score :   0 to +1 \n",
    "#it is very good score because nearest to +1"
   ]
  },
  {
   "cell_type": "code",
   "execution_count": 87,
   "metadata": {},
   "outputs": [
    {
     "name": "stdout",
     "output_type": "stream",
     "text": [
      "58     2.121325\n",
      "40     0.161080\n",
      "34     1.790963\n",
      "102   -3.121584\n",
      "184   -1.071115\n",
      "198    1.751649\n",
      "95     0.650372\n",
      "4     -0.476570\n",
      "29     1.376352\n",
      "168   -0.175850\n",
      "171    0.094861\n",
      "18     1.442691\n",
      "11     0.085973\n",
      "89     0.085626\n",
      "110   -1.628579\n",
      "118    0.475105\n",
      "159    0.479785\n",
      "35    -4.548925\n",
      "136   -1.595709\n",
      "59     0.296797\n",
      "51     1.313444\n",
      "16    -0.151716\n",
      "44    -0.209470\n",
      "94     1.002953\n",
      "31     0.540576\n",
      "162   -0.130433\n",
      "38     0.367320\n",
      "28    -0.566610\n",
      "193    1.338393\n",
      "27    -1.310358\n",
      "47     1.593306\n",
      "165   -2.684544\n",
      "194    0.978638\n",
      "177   -0.645678\n",
      "176    0.201464\n",
      "97     0.118795\n",
      "174   -2.516140\n",
      "73     0.943990\n",
      "69     1.352080\n",
      "172    0.143738\n",
      "108    1.648793\n",
      "107    1.435349\n",
      "189    0.707220\n",
      "14     0.602824\n",
      "56    -2.799666\n",
      "19     0.469889\n",
      "114   -0.352296\n",
      "39     1.127387\n",
      "185    1.993211\n",
      "124    0.216236\n",
      "98     1.311803\n",
      "123    0.305838\n",
      "119   -0.118500\n",
      "53     1.450047\n",
      "33    -1.594481\n",
      "179    0.079578\n",
      "181   -1.988236\n",
      "106    1.106689\n",
      "199   -1.995585\n",
      "138    0.014138\n",
      "Name: sales, dtype: float64\n"
     ]
    }
   ],
   "source": [
    "#2 assumption  : there should be linear relationship between input and output\n",
    "#how to check linear relation between input X=[[\"TV\",\"radio\"]] and Y=\"sales\"\n",
    "#means visualize scatter plot \n",
    "#find the residuals \n",
    "residuals=Y_test-Y_pred\n",
    "print(residuals)"
   ]
  },
  {
   "cell_type": "code",
   "execution_count": 88,
   "metadata": {},
   "outputs": [
    {
     "name": "stdout",
     "output_type": "stream",
     "text": [
      "[21.6786746  16.43892004  7.70903733 17.92158421 18.67111499 23.74835071\n",
      " 16.24962798 13.37657045  9.12364788 17.27585015 14.40513872  9.85730919\n",
      " 17.31402746 16.61437382 15.02857874 15.42489496 12.42021473 17.34892466\n",
      " 11.09570896 18.10320281  9.38655615 12.65171582  8.70947008 10.49704698\n",
      " 11.35942404 15.03043294  9.73268033 19.46660993 18.26160716 17.21035792\n",
      " 21.60669421 14.58454377 16.32136242 12.3456783  19.99853614 15.38120487\n",
      " 14.01613968 10.05601014 20.94792024  7.45626202  3.65120693  7.26465144\n",
      "  5.99278035 18.39717578  8.2996665  14.13011074 14.95229617 20.37261349\n",
      " 20.60678937 19.48376432 24.08819667 14.89416249  6.71850002 19.74995269\n",
      " 18.99448081 12.52042181 14.18823598  6.09331077 15.39558485  9.58586241]\n"
     ]
    }
   ],
   "source": [
    "print(Y_pred)"
   ]
  },
  {
   "cell_type": "code",
   "execution_count": 89,
   "metadata": {},
   "outputs": [
    {
     "data": {
      "image/png": "[encoded data removed]",
      "text/plain": [
       "<Figure size 432x288 with 1 Axes>"
      ]
     },
     "metadata": {
      "needs_background": "light"
     },
     "output_type": "display_data"
    }
   ],
   "source": [
    "#visualize scatterplot between y_pred and residuals means \n",
    "#here input x=Y_pred  and y=residuals because residuals depend on Y_pred value\n",
    "plt.figure()\n",
    "sns.scatterplot(Y_pred,residuals)\n",
    "\n",
    "plt.show()"
   ]
  },
  {
   "cell_type": "code",
   "execution_count": 90,
   "metadata": {},
   "outputs": [],
   "source": [
    "# in above scatterplot, This is not a linear relation between Y_pred\n",
    "# and residules means no relation between x=[\"TV\",\"radio\"] with sales o/p\n",
    "#means this assumption is not fullfill"
   ]
  },
  {
   "cell_type": "code",
   "execution_count": 91,
   "metadata": {},
   "outputs": [],
   "source": [
    "#3. Assumption :  if occur linear relation then next check relation is \n",
    "#homoskedastik not a heteroskedastik"
   ]
  },
  {
   "cell_type": "code",
   "execution_count": 92,
   "metadata": {},
   "outputs": [
    {
     "data": {
      "image/png": "[encoded data removed]",
      "text/plain": [
       "<Figure size 432x288 with 1 Axes>"
      ]
     },
     "metadata": {
      "needs_background": "light"
     },
     "output_type": "display_data"
    },
    {
     "name": "stdout",
     "output_type": "stream",
     "text": [
      "-1.065988117969208\n",
      "0.05823718098512029\n"
     ]
    }
   ],
   "source": [
    "#4. Assumption of linear regression : - Residuals should be normally distributed\n",
    "#curve means data should be euqally divide on both sides.\n",
    "#normal distributed curve then use inbuilt function displot() of seaborn\n",
    "#library ,distplot is also known as frequency graph\n",
    "#use distplot()\n",
    "plt.figure()\n",
    "sns.distplot(residuals)\n",
    "plt.show()\n",
    "from scipy.stats import skew\n",
    "print(skew(residuals))\n",
    "print(np.mean(residuals))"
   ]
  },
  {
   "cell_type": "code",
   "execution_count": 93,
   "metadata": {},
   "outputs": [],
   "source": [
    "#In above distplot curve , -ve skewness found means no normal distributed curve\n",
    "#found means it is a AS-symmetric curve means this assumption is not fullfill"
   ]
  },
  {
   "cell_type": "code",
   "execution_count": 94,
   "metadata": {},
   "outputs": [],
   "source": [
    "#here we handled multicolinearity (removed multicolinearity (problem)\n",
    "#but not working 3 assumption \n",
    "#means no relation relationship means here create a curve\n",
    "##relation should be HOMOSKEDAStik : means datapoints are closely each other\n",
    "#should not by Heteroskedastic  means should not be scattered\n",
    "#if linear relationship occurs\n",
    "# no normal distributed curve"
   ]
  },
  {
   "cell_type": "code",
   "execution_count": 95,
   "metadata": {},
   "outputs": [],
   "source": [
    "#increase the degress of X means increase the power of X means independent vairable\n",
    "#if increasing the degree or power of independent variable then It is called\n",
    "#polynomial Linear regression(PLR)"
   ]
  },
  {
   "cell_type": "code",
   "execution_count": 96,
   "metadata": {},
   "outputs": [],
   "source": [
    "#PLR : polynomial linear regression"
   ]
  },
  {
   "cell_type": "code",
   "execution_count": 97,
   "metadata": {},
   "outputs": [
    {
     "name": "stdout",
     "output_type": "stream",
     "text": [
      "[-100  -99  -98  -97  -96  -95  -94  -93  -92  -91  -90  -89  -88  -87\n",
      "  -86  -85  -84  -83  -82  -81  -80  -79  -78  -77  -76  -75  -74  -73\n",
      "  -72  -71  -70  -69  -68  -67  -66  -65  -64  -63  -62  -61  -60  -59\n",
      "  -58  -57  -56  -55  -54  -53  -52  -51  -50  -49  -48  -47  -46  -45\n",
      "  -44  -43  -42  -41  -40  -39  -38  -37  -36  -35  -34  -33  -32  -31\n",
      "  -30  -29  -28  -27  -26  -25  -24  -23  -22  -21  -20  -19  -18  -17\n",
      "  -16  -15  -14  -13  -12  -11  -10   -9   -8   -7   -6   -5   -4   -3\n",
      "   -2   -1    0    1    2    3    4    5    6    7    8    9   10   11\n",
      "   12   13   14   15   16   17   18   19   20   21   22   23   24   25\n",
      "   26   27   28   29   30   31   32   33   34   35   36   37   38   39\n",
      "   40   41   42   43   44   45   46   47   48   49   50   51   52   53\n",
      "   54   55   56   57   58   59   60   61   62   63   64   65   66   67\n",
      "   68   69   70   71   72   73   74   75   76   77   78   79   80   81\n",
      "   82   83   84   85   86   87   88   89   90   91   92   93   94   95\n",
      "   96   97   98   99]\n"
     ]
    }
   ],
   "source": [
    "#Demo of PLR\n",
    "#create numpy 1D array\n",
    "X=np.arange(-100,100) #arange() inbuilt function here start=-100 ,\n",
    "#stop=100-1=99 and step=+1 by defualt X=-100,-99,-98,....0,2,3,....99\n",
    "print(X) "
   ]
  },
  {
   "cell_type": "code",
   "execution_count": 98,
   "metadata": {},
   "outputs": [],
   "source": [
    "#create user defined function for different power of independent variable X\n",
    "#Linear  means degree/power=1 of independent variable X means Y=mX+b\n",
    "def poly_1(X):  #here poly_1()  user defined function it is passing argument \n",
    "    #and return value and here X independent variable\n",
    "    m=4 #slope /gradient/coef \n",
    "    b=5 #intercept\n",
    "    Y=m*X+b\n",
    "    return Y  #return output"
   ]
  },
  {
   "cell_type": "code",
   "execution_count": 99,
   "metadata": {},
   "outputs": [],
   "source": [
    "#Main program\n",
    "#call function\n",
    "#call function poly_1\n",
    "Y=poly_1(X) #Y dependent variable\n",
    "#print(Y)"
   ]
  },
  {
   "cell_type": "code",
   "execution_count": 100,
   "metadata": {},
   "outputs": [
    {
     "data": {
      "image/png": "[encoded data removed]",
      "text/plain": [
       "<Figure size 432x288 with 1 Axes>"
      ]
     },
     "metadata": {
      "needs_background": "light"
     },
     "output_type": "display_data"
    }
   ],
   "source": [
    "#Visualise the input X and output Y\n",
    "plt.plot(X,Y)\n",
    "plt.title(\"Simple Linear Regression\")\n",
    "plt.xlabel(\"Value of X\")\n",
    "plt.ylabel(\"Value of Y\")\n",
    "plt.show()"
   ]
  },
  {
   "cell_type": "code",
   "execution_count": 101,
   "metadata": {},
   "outputs": [],
   "source": [
    "#Quadratic if degree/power of independent variable X=2\n",
    "#AX^2+BX^1+C=0\n",
    "def poly_2(X): #here poly_2()  user defined function it is passing argument \n",
    "    #and return value and here X independent variable\n",
    "    m1=6 #suppose coefficient of X^2 =m1\n",
    "    m2=4 #suppose coefficient of X^1 =m2\n",
    "    b=5  #suppose intercept b=5\n",
    "    Y=m1*X**2+m2*X+b\n",
    "    return Y\n"
   ]
  },
  {
   "cell_type": "code",
   "execution_count": 102,
   "metadata": {},
   "outputs": [
    {
     "name": "stdout",
     "output_type": "stream",
     "text": [
      "[59605 58415 57237 56071 54917 53775 52645 51527 50421 49327 48245 47175\n",
      " 46117 45071 44037 43015 42005 41007 40021 39047 38085 37135 36197 35271\n",
      " 34357 33455 32565 31687 30821 29967 29125 28295 27477 26671 25877 25095\n",
      " 24325 23567 22821 22087 21365 20655 19957 19271 18597 17935 17285 16647\n",
      " 16021 15407 14805 14215 13637 13071 12517 11975 11445 10927 10421  9927\n",
      "  9445  8975  8517  8071  7637  7215  6805  6407  6021  5647  5285  4935\n",
      "  4597  4271  3957  3655  3365  3087  2821  2567  2325  2095  1877  1671\n",
      "  1477  1295  1125   967   821   687   565   455   357   271   197   135\n",
      "    85    47    21     7     5    15    37    71   117   175   245   327\n",
      "   421   527   645   775   917  1071  1237  1415  1605  1807  2021  2247\n",
      "  2485  2735  2997  3271  3557  3855  4165  4487  4821  5167  5525  5895\n",
      "  6277  6671  7077  7495  7925  8367  8821  9287  9765 10255 10757 11271\n",
      " 11797 12335 12885 13447 14021 14607 15205 15815 16437 17071 17717 18375\n",
      " 19045 19727 20421 21127 21845 22575 23317 24071 24837 25615 26405 27207\n",
      " 28021 28847 29685 30535 31397 32271 33157 34055 34965 35887 36821 37767\n",
      " 38725 39695 40677 41671 42677 43695 44725 45767 46821 47887 48965 50055\n",
      " 51157 52271 53397 54535 55685 56847 58021 59207]\n"
     ]
    }
   ],
   "source": [
    "#Main program\n",
    "#call function poly_2\n",
    "Y=poly_2(X) #Y dependent variable\n",
    "print(Y)"
   ]
  },
  {
   "cell_type": "code",
   "execution_count": 103,
   "metadata": {},
   "outputs": [
    {
     "data": {
      "image/png": "[encoded data removed]",
      "text/plain": [
       "<Figure size 432x288 with 1 Axes>"
      ]
     },
     "metadata": {
      "needs_background": "light"
     },
     "output_type": "display_data"
    }
   ],
   "source": [
    "#Visualise the input X and output Y\n",
    "plt.plot(X,Y)\n",
    "plt.title(\"Quadratic Equation PLR\")\n",
    "plt.xlabel(\"Value of X\")\n",
    "plt.ylabel(\"Value of Y\")\n",
    "plt.show()"
   ]
  },
  {
   "cell_type": "code",
   "execution_count": 104,
   "metadata": {},
   "outputs": [],
   "source": [
    "#Cubic if degree/power of independent variavle X=3\n",
    "#Y=m1*X**3+m2*X**2+m3*X**1+b\n",
    "#Y=8*(-100)**3+6*(-100)**2+\n",
    "def poly_3(X): #here poly_3()  user defined function it is passing argument \n",
    "    #and return value and here X independent variable\n",
    "    m1=8 #suppose coefficient of X^3 =m1\n",
    "    m2=6 #suppose coefficient of X^2 =m2\n",
    "    m3=4 #suppose coefficient of X^1 =m3\n",
    "    b=5  #suppose intercept b=5\n",
    "    Y=m1*X**3+m2*X**2+m3*X+b\n",
    "    #cubic equation ax^3+bx^2+cx^1+d=0 means a=m1 b=m2 c=m3 and d=intercept=b\n",
    "    return Y"
   ]
  },
  {
   "cell_type": "code",
   "execution_count": 105,
   "metadata": {},
   "outputs": [
    {
     "name": "stdout",
     "output_type": "stream",
     "text": [
      "[-7940395 -7703977 -7472299 -7245313 -7022971 -6805225 -6592027 -6383329\n",
      " -6179083 -5979241 -5783755 -5592577 -5405659 -5222953 -5044411 -4869985\n",
      " -4699627 -4533289 -4370923 -4212481 -4057915 -3907177 -3760219 -3616993\n",
      " -3477451 -3341545 -3209227 -3080449 -2955163 -2833321 -2714875 -2599777\n",
      " -2487979 -2379433 -2274091 -2171905 -2072827 -1976809 -1883803 -1793761\n",
      " -1706635 -1622377 -1540939 -1462273 -1386331 -1313065 -1242427 -1174369\n",
      " -1108843 -1045801  -985195  -926977  -871099  -817513  -766171  -717025\n",
      "  -670027  -625129  -582283  -541441  -502555  -465577  -430459  -397153\n",
      "  -365611  -335785  -307627  -281089  -256123  -232681  -210715  -190177\n",
      "  -171019  -153193  -136651  -121345  -107227   -94249   -82363   -71521\n",
      "   -61675   -52777   -44779   -37633   -31291   -25705   -20827   -16609\n",
      "   -13003    -9961    -7435    -5377    -3739    -2473    -1531     -865\n",
      "     -427     -169      -43       -1        5       23      101      287\n",
      "      629     1175     1973     3071     4517     6359     8645    11423\n",
      "    14741    18647    23189    28415    34373    41111    48677    57119\n",
      "    66485    76823    88181   100607   114149   128855   144773   161951\n",
      "   180437   200279   221525   244223   268421   294167   321509   350495\n",
      "   381173   413591   447797   483839   521765   561623   603461   647327\n",
      "   693269   741335   791573   844031   898757   955799  1015205  1077023\n",
      "  1141301  1208087  1277429  1349375  1423973  1501271  1581317  1664159\n",
      "  1749845  1838423  1929941  2024447  2121989  2222615  2326373  2433311\n",
      "  2543477  2656919  2773685  2893823  3017381  3144407  3274949  3409055\n",
      "  3546773  3688151  3833237  3982079  4134725  4291223  4451621  4615967\n",
      "  4784309  4956695  5133173  5313791  5498597  5687639  5880965  6078623\n",
      "  6280661  6487127  6698069  6913535  7133573  7358231  7587557  7821599]\n"
     ]
    },
    {
     "data": {
      "image/png": "[encoded data removed]",
      "text/plain": [
       "<Figure size 432x288 with 1 Axes>"
      ]
     },
     "metadata": {
      "needs_background": "light"
     },
     "output_type": "display_data"
    }
   ],
   "source": [
    "#Main program\n",
    "#call function poly_3\n",
    "Y=poly_3(X) #Y dependent variable\n",
    "print(Y)\n",
    "\n",
    "#Visualise the input X and output Y\n",
    "plt.plot(X,Y)\n",
    "plt.title(\"Quadratic Equation PLR\")\n",
    "plt.xlabel(\"Value of X\")\n",
    "plt.ylabel(\"Value of Y\")\n",
    "plt.show()"
   ]
  },
  {
   "cell_type": "code",
   "execution_count": 106,
   "metadata": {},
   "outputs": [],
   "source": [
    "#Input : TV and radio means X1=TV X2=radio  and output Y=sales\n",
    "#equation Y=m1*TV**2+m2*TV+m3*radio**2+m4*radio+b\n",
    "#we work on dataset \n",
    "#apply polynomial linear regression means increase the degree of independent\n",
    "#variable X means degree=2 \n",
    "#equation : ax2+bx+c=0  here 2 inputs ax1**2+bx1+cx2**2+dx2+e\n",
    "#here we have 2 inputs : - X=TV,radio means X1=\"TV\" and X2=\"radio\"\n",
    "#eq. m1*TV**2+m2*TV**1+m3*radio**2+m4*radio**1+b"
   ]
  },
  {
   "cell_type": "code",
   "execution_count": 107,
   "metadata": {},
   "outputs": [],
   "source": [
    "X=df[[\"TV\",\"radio\"]]\n",
    "Y=df[\"sales\"]"
   ]
  },
  {
   "cell_type": "code",
   "execution_count": 108,
   "metadata": {},
   "outputs": [],
   "source": [
    "#call PolynomialFeatures inbuilt class which define in sklearn.preprocessing\n",
    "from sklearn.preprocessing import PolynomialFeatures"
   ]
  },
  {
   "cell_type": "code",
   "execution_count": 109,
   "metadata": {},
   "outputs": [],
   "source": [
    "#create the object of PolynomialFeatures class and pass the degree of \n",
    "#independent variable X\n",
    "pf=PolynomialFeatures(2)  #here 2 is a degree means pass how much degree "
   ]
  },
  {
   "cell_type": "code",
   "execution_count": 110,
   "metadata": {},
   "outputs": [],
   "source": [
    "#we create polynomial version of X so we call fit_transform() : inbuilt\n",
    "#method of PolynomialFeatures class\n",
    "X_poly=pf.fit_transform(X)"
   ]
  },
  {
   "cell_type": "code",
   "execution_count": 111,
   "metadata": {},
   "outputs": [
    {
     "data": {
      "text/plain": [
       "array([[1.000000e+00, 2.301000e+02, 3.780000e+01, 5.294601e+04,\n",
       "        8.697780e+03, 1.428840e+03],\n",
       "       [1.000000e+00, 4.450000e+01, 3.930000e+01, 1.980250e+03,\n",
       "        1.748850e+03, 1.544490e+03],\n",
       "       [1.000000e+00, 1.720000e+01, 4.590000e+01, 2.958400e+02,\n",
       "        7.894800e+02, 2.106810e+03],\n",
       "       ...,\n",
       "       [1.000000e+00, 1.770000e+02, 9.300000e+00, 3.132900e+04,\n",
       "        1.646100e+03, 8.649000e+01],\n",
       "       [1.000000e+00, 2.836000e+02, 4.200000e+01, 8.042896e+04,\n",
       "        1.191120e+04, 1.764000e+03],\n",
       "       [1.000000e+00, 2.321000e+02, 8.600000e+00, 5.387041e+04,\n",
       "        1.996060e+03, 7.396000e+01]])"
      ]
     },
     "execution_count": 111,
     "metadata": {},
     "output_type": "execute_result"
    }
   ],
   "source": [
    "X_poly"
   ]
  },
  {
   "cell_type": "code",
   "execution_count": 112,
   "metadata": {},
   "outputs": [],
   "source": [
    "#train_test_split\n",
    "X_train,X_test,Y_train,Y_test=train_test_split(X_poly,Y,test_size=0.3,\n",
    "                                               random_state=1)"
   ]
  },
  {
   "cell_type": "code",
   "execution_count": 113,
   "metadata": {},
   "outputs": [],
   "source": [
    "#Create the object of LinearRegression\n",
    "lr=LinearRegression()"
   ]
  },
  {
   "cell_type": "code",
   "execution_count": 114,
   "metadata": {},
   "outputs": [
    {
     "data": {
      "text/plain": [
       "LinearRegression()"
      ]
     },
     "execution_count": 114,
     "metadata": {},
     "output_type": "execute_result"
    }
   ],
   "source": [
    "#Train the model with 70% data\n",
    "lr.fit(X_train,Y_train)"
   ]
  },
  {
   "cell_type": "code",
   "execution_count": 115,
   "metadata": {},
   "outputs": [],
   "source": [
    "#we testing the model means prediction\n",
    "Y_pred=lr.predict(X_test)"
   ]
  },
  {
   "cell_type": "code",
   "execution_count": 116,
   "metadata": {},
   "outputs": [
    {
     "name": "stdout",
     "output_type": "stream",
     "text": [
      "Mean Squared Error :  0.17238345081000733\n"
     ]
    }
   ],
   "source": [
    "#mean square error\n",
    "print(\"Mean Squared Error : \",mean_squared_error(Y_test,Y_pred))"
   ]
  },
  {
   "cell_type": "code",
   "execution_count": 117,
   "metadata": {},
   "outputs": [],
   "source": [
    "#Error is very less as previous [Mean_Squared_Error :  1.9147050289721788]"
   ]
  },
  {
   "cell_type": "code",
   "execution_count": 118,
   "metadata": {},
   "outputs": [
    {
     "name": "stdout",
     "output_type": "stream",
     "text": [
      "R squared score :  0.9930704848288293\n"
     ]
    }
   ],
   "source": [
    "#r2-score \n",
    "print(\"R squared score : \",r2_score(Y_test,Y_pred))"
   ]
  },
  {
   "cell_type": "code",
   "execution_count": 119,
   "metadata": {},
   "outputs": [],
   "source": [
    "#Great r2-score  It is closest to +1"
   ]
  },
  {
   "cell_type": "code",
   "execution_count": 120,
   "metadata": {},
   "outputs": [],
   "source": [
    "#work on assumption \n",
    "#create the Normal distributed curve with the help of residuals\n",
    "#find residuals\n",
    "residuals=Y_test-Y_pred"
   ]
  },
  {
   "cell_type": "code",
   "execution_count": 121,
   "metadata": {},
   "outputs": [
    {
     "name": "stdout",
     "output_type": "stream",
     "text": [
      "skewness :  0.5111613178351139\n"
     ]
    }
   ],
   "source": [
    "print(\"skewness : \",skew(residuals))"
   ]
  },
  {
   "cell_type": "code",
   "execution_count": 122,
   "metadata": {},
   "outputs": [
    {
     "data": {
      "image/png": "[encoded data removed]",
      "text/plain": [
       "<Figure size 432x288 with 1 Axes>"
      ]
     },
     "metadata": {
      "needs_background": "light"
     },
     "output_type": "display_data"
    }
   ],
   "source": [
    "#plot normal distribution curve\n",
    "plt.figure()\n",
    "sns.distplot(residuals)\n",
    "plt.show()"
   ]
  },
  {
   "cell_type": "code",
   "execution_count": 123,
   "metadata": {},
   "outputs": [
    {
     "data": {
      "image/png": "[encoded data removed]",
      "text/plain": [
       "<Figure size 432x288 with 1 Axes>"
      ]
     },
     "metadata": {
      "needs_background": "light"
     },
     "output_type": "display_data"
    }
   ],
   "source": [
    "#next assumption \n",
    "#there should be a linear regression\n",
    "#plot scatter plot \n",
    "plt.figure()\n",
    "sns.scatterplot(Y_pred,residuals)\n",
    "plt.show()"
   ]
  },
  {
   "cell_type": "code",
   "execution_count": 124,
   "metadata": {},
   "outputs": [],
   "source": [
    "#here this is linear relation ship between residuals and Y_pred \n",
    "#means input and output are related to each other\n",
    "#but datpoints are scattered means heteroskadastic but should be homoskedastik\n",
    "#means datapoints are close each other"
   ]
  },
  {
   "cell_type": "code",
   "execution_count": 125,
   "metadata": {},
   "outputs": [],
   "source": [
    "#Y=m1*TV**3+m2*TV**2+m3*TV**1+m4*radio**3+m5*radio**2+m6*radio**1+b"
   ]
  },
  {
   "cell_type": "code",
   "execution_count": null,
   "metadata": {},
   "outputs": [],
   "source": []
  }
 ],
 "metadata": {
  "kernelspec": {
   "display_name": "Python 3",
   "language": "python",
   "name": "python3"
  },
  "language_info": {
   "codemirror_mode": {
    "name": "ipython",
    "version": 3
   },
   "file_extension": ".py",
   "mimetype": "text/x-python",
   "name": "python",
   "nbconvert_exporter": "python",
   "pygments_lexer": "ipython3",
   "version": "3.8.5"
  }
 },
 "nbformat": 4,
 "nbformat_minor": 5
}
